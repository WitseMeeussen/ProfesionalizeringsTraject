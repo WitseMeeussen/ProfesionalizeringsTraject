{
 "cells": [
  {
   "cell_type": "code",
   "execution_count": 3,
   "metadata": {},
   "outputs": [],
   "source": [
    "import pandas as pd\n",
    "import numpy as np\n",
    "from scipy import stats"
   ]
  },
  {
   "cell_type": "markdown",
   "metadata": {},
   "source": [
    "goodness of fit (comparing prediction and exemanitation)"
   ]
  },
  {
   "cell_type": "code",
   "execution_count": 2,
   "metadata": {},
   "outputs": [
    {
     "data": {
      "text/plain": [
       "Power_divergenceResult(statistic=235.42000000000002, pvalue=7.36720606760897e-49)"
      ]
     },
     "execution_count": 2,
     "metadata": {},
     "output_type": "execute_result"
    }
   ],
   "source": [
    "e = [100,100,100,100,100,100]\n",
    "o = [212,147,103,50,46,42]\n",
    "\n",
    "stats.chisquare(o,e)"
   ]
  },
  {
   "cell_type": "markdown",
   "metadata": {},
   "source": [
    "the result is so small the conclusion must be the prediction doesnt fit\n",
    "\n",
    "2. ex2 Dices\n"
   ]
  },
  {
   "cell_type": "code",
   "execution_count": 6,
   "metadata": {},
   "outputs": [
    {
     "data": {
      "text/plain": [
       "Power_divergenceResult(statistic=21.231384307846078, pvalue=9.424680344118559e-05)"
      ]
     },
     "execution_count": 6,
     "metadata": {},
     "output_type": "execute_result"
    }
   ],
   "source": [
    "# 0 1 2 3 sixes\n",
    "e = [58,34.5,7,0.5]\n",
    "o = [48,35,14,3]\n",
    "\n",
    "stats.chisquare(o,e)"
   ]
  },
  {
   "cell_type": "markdown",
   "metadata": {},
   "source": [
    "3. ex3 chi square for contengincy"
   ]
  },
  {
   "cell_type": "code",
   "execution_count": 8,
   "metadata": {},
   "outputs": [
    {
     "data": {
      "text/plain": [
       "(16.203703703703702,\n",
       " 0.0003029775487145488,\n",
       " 2,\n",
       " array([[270., 270.,  60.],\n",
       "        [180., 180.,  40.]]))"
      ]
     },
     "execution_count": 8,
     "metadata": {},
     "output_type": "execute_result"
    }
   ],
   "source": [
    "female = [250,300,50]\n",
    "male = [200,150,50]\n",
    "\n",
    "stats.chi2_contingency([female,male])"
   ]
  }
 ],
 "metadata": {
  "interpreter": {
   "hash": "2d82c27311376dc1e687f6b9daa3f4eb99bd4cab0f4c2a1b3d78b410d0b9020e"
  },
  "kernelspec": {
   "display_name": "Python 3.10.2 64-bit",
   "language": "python",
   "name": "python3"
  },
  "language_info": {
   "codemirror_mode": {
    "name": "ipython",
    "version": 3
   },
   "file_extension": ".py",
   "mimetype": "text/x-python",
   "name": "python",
   "nbconvert_exporter": "python",
   "pygments_lexer": "ipython3",
   "version": "3.10.2"
  },
  "orig_nbformat": 4
 },
 "nbformat": 4,
 "nbformat_minor": 2
}
