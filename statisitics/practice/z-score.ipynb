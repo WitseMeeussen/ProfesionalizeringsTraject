{
 "cells": [
  {
   "cell_type": "code",
   "execution_count": 1,
   "metadata": {},
   "outputs": [],
   "source": [
    "import pandas as pd\n",
    "import numpy as np\n",
    "from scipy import stats"
   ]
  },
  {
   "cell_type": "code",
   "execution_count": 3,
   "metadata": {},
   "outputs": [
    {
     "data": {
      "text/plain": [
       "0.7999999999999998"
      ]
     },
     "execution_count": 3,
     "metadata": {},
     "output_type": "execute_result"
    }
   ],
   "source": [
    "mean = 3.1\n",
    "std = 0.5\n",
    "z_scr = (3.5-mean)/std\n",
    "\n",
    "z_scr"
   ]
  },
  {
   "cell_type": "markdown",
   "metadata": {},
   "source": [
    "Get the percentage below the z_scr in a normal distrebution."
   ]
  },
  {
   "cell_type": "code",
   "execution_count": 4,
   "metadata": {},
   "outputs": [
    {
     "data": {
      "text/plain": [
       "0.7881446014166033"
      ]
     },
     "execution_count": 4,
     "metadata": {},
     "output_type": "execute_result"
    }
   ],
   "source": [
    "stats.norm.cdf(z_scr)"
   ]
  },
  {
   "cell_type": "markdown",
   "metadata": {},
   "source": [
    "2. EX2\n",
    "\n",
    "z test"
   ]
  },
  {
   "cell_type": "code",
   "execution_count": 7,
   "metadata": {},
   "outputs": [
    {
     "name": "stdout",
     "output_type": "stream",
     "text": [
      "-0.5 1.5\n"
     ]
    }
   ],
   "source": [
    "mean = 28\n",
    "std = 2\n",
    "\n",
    "z_27 = (27-mean)/std\n",
    "z_31 = (31-mean)/std\n",
    "print(z_27,z_31)"
   ]
  },
  {
   "cell_type": "code",
   "execution_count": 8,
   "metadata": {},
   "outputs": [
    {
     "name": "stdout",
     "output_type": "stream",
     "text": [
      "0.624655260005155\n"
     ]
    }
   ],
   "source": [
    "p_smallerthan27 = stats.norm.cdf(z_27)\n",
    "p_smallerthan31 = stats.norm.cdf(z_31)\n",
    "\n",
    "print(p_smallerthan31 - p_smallerthan27)"
   ]
  },
  {
   "cell_type": "markdown",
   "metadata": {},
   "source": [
    "3. EX3\n",
    "\n",
    "search the value of the a zscore .9"
   ]
  },
  {
   "cell_type": "code",
   "execution_count": 10,
   "metadata": {},
   "outputs": [
    {
     "name": "stdout",
     "output_type": "stream",
     "text": [
      "225.631031310892\n"
     ]
    }
   ],
   "source": [
    "mean = 200\n",
    "std = 20\n",
    "p_z = 0.9\n",
    "\n",
    "z_scr = stats.norm.ppf(p_z)\n",
    "\n",
    "x = mean + (std * z_scr)\n",
    "print(x)"
   ]
  },
  {
   "cell_type": "markdown",
   "metadata": {},
   "source": [
    "4. EX4\n",
    "\n",
    "upper lower values of the middle 60%."
   ]
  },
  {
   "cell_type": "code",
   "execution_count": null,
   "metadata": {},
   "outputs": [],
   "source": [
    "mean = 120\n",
    "std = 8"
   ]
  },
  {
   "cell_type": "code",
   "execution_count": 11,
   "metadata": {},
   "outputs": [
    {
     "name": "stdout",
     "output_type": "stream",
     "text": [
      "-0.8416212335729142 0.8416212335729143\n"
     ]
    }
   ],
   "source": [
    "p_lower = 0.2\n",
    "p_upper = 0.8\n",
    "\n",
    "# they are the same. doi\n",
    "z_lower = stats.norm.ppf(p_lower)\n",
    "z_upper = stats.norm.ppf(p_upper)\n",
    "print(z_lower,z_upper)"
   ]
  },
  {
   "cell_type": "code",
   "execution_count": null,
   "metadata": {},
   "outputs": [],
   "source": [
    "v_lower = z_lower*std + mean\n",
    "v_upper = z_upper*std + mean\n",
    "print(v_lower,v_upper)"
   ]
  }
 ],
 "metadata": {
  "interpreter": {
   "hash": "4376324f1bafa7ff1c937c28289b86b796aaaefb82ee46f94691172633892cf8"
  },
  "kernelspec": {
   "display_name": "Python 3.10.2 64-bit (windows store)",
   "language": "python",
   "name": "python3"
  },
  "language_info": {
   "codemirror_mode": {
    "name": "ipython",
    "version": 3
   },
   "file_extension": ".py",
   "mimetype": "text/x-python",
   "name": "python",
   "nbconvert_exporter": "python",
   "pygments_lexer": "ipython3",
   "version": "3.10.2"
  },
  "orig_nbformat": 4
 },
 "nbformat": 4,
 "nbformat_minor": 2
}
