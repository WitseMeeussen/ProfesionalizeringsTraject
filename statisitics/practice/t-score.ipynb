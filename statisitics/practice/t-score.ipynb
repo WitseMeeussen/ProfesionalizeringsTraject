{
 "cells": [
  {
   "cell_type": "code",
   "execution_count": 1,
   "metadata": {},
   "outputs": [],
   "source": [
    "import pandas as pd\n",
    "import numpy as np\n",
    "from scipy import stats"
   ]
  },
  {
   "cell_type": "markdown",
   "metadata": {},
   "source": [
    "1. T test\n",
    "\n",
    "prediction of the population mean interval"
   ]
  },
  {
   "cell_type": "code",
   "execution_count": 2,
   "metadata": {},
   "outputs": [],
   "source": [
    "mean = 756\n",
    "sd = 35\n",
    "n = 50\n",
    "\n",
    "alpha = 0.95\n",
    "\n",
    "population_sd = sd/np.sqrt(n)"
   ]
  },
  {
   "cell_type": "code",
   "execution_count": 3,
   "metadata": {},
   "outputs": [
    {
     "data": {
      "text/plain": [
       "(746.0531100707169, 765.9468899292831)"
      ]
     },
     "execution_count": 3,
     "metadata": {},
     "output_type": "execute_result"
    }
   ],
   "source": [
    "#n-1 is the degrees of freedom\n",
    "stats.t.interval(alpha,n-1,mean,scale = population_sd)"
   ]
  },
  {
   "cell_type": "markdown",
   "metadata": {},
   "source": [
    "2. anual income\n",
    "\n",
    "p (.9,.95,.99)"
   ]
  },
  {
   "cell_type": "code",
   "execution_count": 6,
   "metadata": {},
   "outputs": [],
   "source": [
    "mean = 35000\n",
    "sd = 5000\n",
    "n = 200\n",
    "\n",
    "population_sd = sd/np.sqrt(n)\n",
    "\n",
    "df = n-1"
   ]
  },
  {
   "cell_type": "code",
   "execution_count": 7,
   "metadata": {},
   "outputs": [
    {
     "name": "stdout",
     "output_type": "stream",
     "text": [
      "(34415.73649477915, 35584.26350522085)\n",
      "(34302.80807767803, 35697.19192232197)\n",
      "(34080.49240750203, 35919.50759249797)\n"
     ]
    }
   ],
   "source": [
    "# 0.9\n",
    "print(stats.t.interval(0.9,df,mean,scale = population_sd))\n",
    "# 0.95\n",
    "print(stats.t.interval(0.95,df,mean,scale = population_sd))\n",
    "# 0.99\n",
    "print(stats.t.interval(0.99,df,mean,scale = population_sd))"
   ]
  },
  {
   "cell_type": "markdown",
   "metadata": {},
   "source": [
    "3. dental records\n",
    "\n",
    "H0: means are not significaly different"
   ]
  },
  {
   "cell_type": "code",
   "execution_count": 23,
   "metadata": {},
   "outputs": [],
   "source": [
    "mean_sample = 1.2\n",
    "mean_pop = 1.4\n",
    "n = 16\n",
    "sd = 1.9\n",
    "\n",
    "sd_pop = sd/np.sqrt(sd)"
   ]
  },
  {
   "cell_type": "markdown",
   "metadata": {},
   "source": [
    "Generate data"
   ]
  },
  {
   "cell_type": "code",
   "execution_count": 24,
   "metadata": {},
   "outputs": [
    {
     "data": {
      "text/plain": [
       "array([ 1.84926948e+00, -1.01182779e+00,  2.16039522e+00,  1.88854050e+00,\n",
       "       -4.86285186e-01,  8.83540237e-01,  1.31546737e+00,  6.27994904e-01,\n",
       "       -8.13316624e-02,  1.75645653e+00,  8.16509983e-01, -1.79333555e-01,\n",
       "       -1.70864222e+00, -3.03037649e-03,  4.84833437e+00,  2.45224548e+00])"
      ]
     },
     "execution_count": 24,
     "metadata": {},
     "output_type": "execute_result"
    }
   ],
   "source": [
    "x = np.random.normal(loc=mean_sample,scale=sd,size=16)\n",
    "x"
   ]
  },
  {
   "cell_type": "code",
   "execution_count": 25,
   "metadata": {},
   "outputs": [
    {
     "name": "stdout",
     "output_type": "stream",
     "text": [
      "-1.1460146635079282 0.26974344981072645\n"
     ]
    }
   ],
   "source": [
    "tscore, pvalue = stats.ttest_1samp(x,popmean=mean_pop)\n",
    "print(tscore,pvalue)"
   ]
  },
  {
   "cell_type": "markdown",
   "metadata": {},
   "source": [
    "3.independent t-test\n",
    "\n",
    "are these samples indipendent or not"
   ]
  },
  {
   "cell_type": "code",
   "execution_count": 26,
   "metadata": {},
   "outputs": [
    {
     "data": {
      "text/plain": [
       "Ttest_indResult(statistic=-1.6947980485980962, pvalue=0.10734388652397889)"
      ]
     },
     "execution_count": 26,
     "metadata": {},
     "output_type": "execute_result"
    }
   ],
   "source": [
    "a = [1,2,2,3,3,4,4,5,5,6]\n",
    "b = [1,2,4,5,5,6,6,7,5,9]\n",
    "stats.ttest_ind(a,b,axis=0,equal_var=True)"
   ]
  },
  {
   "cell_type": "markdown",
   "metadata": {},
   "source": [
    "4. Paired T test\n",
    "\n",
    "is there a significant schanche in the samples"
   ]
  },
  {
   "cell_type": "code",
   "execution_count": 27,
   "metadata": {},
   "outputs": [
    {
     "data": {
      "text/plain": [
       "Ttest_relResult(statistic=-4.3915503282684, pvalue=0.0017416242281296439)"
      ]
     },
     "execution_count": 27,
     "metadata": {},
     "output_type": "execute_result"
    }
   ],
   "source": [
    "a = [1,2,2,3,3,4,4,5,5,6]\n",
    "b = [1,2,4,5,5,6,6,7,5,9]\n",
    "stats.ttest_rel(a,b,axis=0)"
   ]
  }
 ],
 "metadata": {
  "interpreter": {
   "hash": "2d82c27311376dc1e687f6b9daa3f4eb99bd4cab0f4c2a1b3d78b410d0b9020e"
  },
  "kernelspec": {
   "display_name": "Python 3.10.2 64-bit",
   "language": "python",
   "name": "python3"
  },
  "language_info": {
   "codemirror_mode": {
    "name": "ipython",
    "version": 3
   },
   "file_extension": ".py",
   "mimetype": "text/x-python",
   "name": "python",
   "nbconvert_exporter": "python",
   "pygments_lexer": "ipython3",
   "version": "3.10.2"
  },
  "orig_nbformat": 4
 },
 "nbformat": 4,
 "nbformat_minor": 2
}
